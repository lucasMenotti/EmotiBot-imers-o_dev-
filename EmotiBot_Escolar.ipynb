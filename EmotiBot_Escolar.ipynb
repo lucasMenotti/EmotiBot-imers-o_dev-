{
  "nbformat": 4,
  "nbformat_minor": 0,
  "metadata": {
    "colab": {
      "provenance": [],
      "authorship_tag": "ABX9TyNZUEkl6dwY8VND5XHxyV5q",
      "include_colab_link": true
    },
    "kernelspec": {
      "name": "python3",
      "display_name": "Python 3"
    },
    "language_info": {
      "name": "python"
    }
  },
  "cells": [
    {
      "cell_type": "markdown",
      "metadata": {
        "id": "view-in-github",
        "colab_type": "text"
      },
      "source": [
        "<a href=\"https://colab.research.google.com/github/lucasMenotti/EmotiBot-imers-o_dev-/blob/main/EmotiBot_Escolar.ipynb\" target=\"_parent\"><img src=\"https://colab.research.google.com/assets/colab-badge.svg\" alt=\"Open In Colab\"/></a>"
      ]
    },
    {
      "cell_type": "code",
      "execution_count": 2,
      "metadata": {
        "colab": {
          "base_uri": "https://localhost:8080/",
          "height": 374
        },
        "id": "G9B1BWbqlLGO",
        "outputId": "c25b48bf-2313-4036-cac9-2e75c72f9396"
      },
      "outputs": [
        {
          "output_type": "display_data",
          "data": {
            "text/plain": [
              "<IPython.core.display.HTML object>"
            ],
            "text/html": [
              "\n",
              "<style>\n",
              "  .capa-projeto {\n",
              "    background: linear-gradient(135deg, #E36937, #F5A623);\n",
              "    color: white;\n",
              "    padding: 60px 40px;\n",
              "    font-family: 'Segoe UI', Tahoma, Geneva, Verdana, sans-serif;\n",
              "    border-radius: 20px;\n",
              "    box-shadow: 0 8px 20px rgba(0,0,0,0.3);\n",
              "    text-align: center;\n",
              "  }\n",
              "  .capa-projeto h1 {\n",
              "    font-size: 3.5em;\n",
              "    margin-bottom: 0.2em;\n",
              "    text-shadow: 2px 2px 8px rgba(0,0,0,0.4);\n",
              "  }\n",
              "  .capa-projeto h2 {\n",
              "    font-weight: 300;\n",
              "    font-size: 1.7em;\n",
              "    margin-top: 0;\n",
              "    margin-bottom: 1em;\n",
              "    font-style: italic;\n",
              "  }\n",
              "  .capa-projeto p {\n",
              "    font-size: 1.3em;\n",
              "    margin-bottom: 0.5em;\n",
              "  }\n",
              "  .capa-projeto small {\n",
              "    font-size: 0.95em;\n",
              "    color: #ffd9b3;\n",
              "  }\n",
              "</style>\n",
              "\n",
              "<div class=\"capa-projeto\">\n",
              "  <h1>🤖 EmotiBot</h1>\n",
              "  <h2>Seu Amigo Virtual de Apoio Emocional</h2>\n",
              "  <p><strong>Projeto para:</strong> Suporte a jovens com ansiedade escolar</p>\n",
              "  <p><strong>Objetivo:</strong> Ajudar, escutar e sugerir pausas para autocuidado</p>\n",
              "  <small>Apresentado por: Lucas</small>\n",
              "</div>\n"
            ]
          },
          "metadata": {}
        }
      ],
      "source": [
        "from IPython.display import display, HTML\n",
        "\n",
        "display(HTML(\"\"\"\n",
        "<style>\n",
        "  .capa-projeto {\n",
        "    background: linear-gradient(135deg, #E36937, #F5A623);\n",
        "    color: white;\n",
        "    padding: 60px 40px;\n",
        "    font-family: 'Segoe UI', Tahoma, Geneva, Verdana, sans-serif;\n",
        "    border-radius: 20px;\n",
        "    box-shadow: 0 8px 20px rgba(0,0,0,0.3);\n",
        "    text-align: center;\n",
        "  }\n",
        "  .capa-projeto h1 {\n",
        "    font-size: 3.5em;\n",
        "    margin-bottom: 0.2em;\n",
        "    text-shadow: 2px 2px 8px rgba(0,0,0,0.4);\n",
        "  }\n",
        "  .capa-projeto h2 {\n",
        "    font-weight: 300;\n",
        "    font-size: 1.7em;\n",
        "    margin-top: 0;\n",
        "    margin-bottom: 1em;\n",
        "    font-style: italic;\n",
        "  }\n",
        "  .capa-projeto p {\n",
        "    font-size: 1.3em;\n",
        "    margin-bottom: 0.5em;\n",
        "  }\n",
        "  .capa-projeto small {\n",
        "    font-size: 0.95em;\n",
        "    color: #ffd9b3;\n",
        "  }\n",
        "</style>\n",
        "\n",
        "<div class=\"capa-projeto\">\n",
        "  <h1>🤖 EmotiBot</h1>\n",
        "  <h2>Seu Amigo Virtual de Apoio Emocional</h2>\n",
        "  <p><strong>Projeto para:</strong> Suporte a jovens com ansiedade escolar</p>\n",
        "  <p><strong>Objetivo:</strong> Ajudar, escutar e sugerir pausas para autocuidado</p>\n",
        "  <small>Apresentado por: Lucas</small>\n",
        "</div>\n",
        "\"\"\"))\n"
      ]
    },
    {
      "cell_type": "code",
      "source": [
        "### Apresentação do Projeto EmotiBot\n",
        "\n",
        "### Um dado chocante:\n",
        "\n",
        "#- Cerca de **30% dos jovens brasileiros** enfrentam ansiedade escolar severa, sem apoio emocional adequado.\n",
        "\n",
        "### Quem sofre?\n",
        "\n",
        "#- Estudantes entre 12 e 25 anos, que sentem medo, estresse e falta de foco nas tarefas, prejudicando seu desenvolvimento.\n",
        "\n",
        "### O que é o EmotiBot?\n",
        "\n",
        "#- Um **amigo virtual empático**, um **guia acolhedor** e um **especialista em autocuidado** na palma da sua mão.\n",
        "#- Ele escuta, compreende e ajuda a gerenciar a ansiedade com dicas, exercícios simples e a sugestão de pausas para autocuidado.\n",
        "\n",
        "### Demonstração interativa\n",
        "\n",
        "#- Vamos ver o EmotiBot em ação no Google Colab! Você pode conversar, pedir ajuda e muito mais!\n",
        "\n",
        "### Visão de impacto\n",
        "\n",
        "# Esse chatbot pode impactar milhões de jovens que hoje não têm acesso a apoio emocional, trazendo conforto, foco e bem-estar para suas vidas escolares.\n"
      ],
      "metadata": {
        "id": "seVFPtoHxoxU"
      },
      "execution_count": 17,
      "outputs": []
    },
    {
      "cell_type": "code",
      "source": [
        "%pip -q install google-genai google-adk\n",
        "\n",
        "import os\n",
        "from google.colab import userdata\n",
        "os.environ[\"GOOGLE_API_KEY\"] = userdata.get(\"GOOGLE_API_KEY\")\n",
        "\n",
        "from google import genai\n",
        "from google.genai import types\n",
        "from google.adk.agents import Agent\n",
        "from google.adk.runners import Runner\n",
        "from google.adk.sessions import InMemorySessionService\n",
        "from google.adk.tools import google_search\n",
        "\n",
        "from IPython.display import display, Markdown\n",
        "import textwrap\n",
        "import warnings\n",
        "from datetime import date\n",
        "\n",
        "warnings.filterwarnings(\"ignore\")\n"
      ],
      "metadata": {
        "id": "YS0STD9Pr6qW"
      },
      "execution_count": 7,
      "outputs": []
    },
    {
      "cell_type": "code",
      "source": [
        "def to_markdown(text):\n",
        "    text = text.replace('•', '  *')\n",
        "    return Markdown(textwrap.indent(text, '> ', predicate=lambda _: True))\n",
        "\n",
        "def call_agent(agent: Agent, message_text: str) -> str:\n",
        "    session_service = InMemorySessionService()\n",
        "    session = session_service.create_session(app_name=agent.name, user_id=\"user1\", session_id=\"session1\")\n",
        "    runner = Runner(agent=agent, app_name=agent.name, session_service=session_service)\n",
        "    content = types.Content(role=\"user\", parts=[types.Part(text=message_text)])\n",
        "\n",
        "    final_response = \"\"\n",
        "    for event in runner.run(user_id=\"user1\", session_id=\"session1\", new_message=content):\n",
        "        if event.is_final_response():\n",
        "            for part in event.content.parts:\n",
        "                if part.text is not None:\n",
        "                    final_response += part.text + \"\\n\"\n",
        "    return final_response\n"
      ],
      "metadata": {
        "id": "4WJhqnKfsATI"
      },
      "execution_count": 8,
      "outputs": []
    },
    {
      "cell_type": "code",
      "source": [
        "agente_ouvinte = Agent(\n",
        "    name=\"ouvinte_emocional\",\n",
        "    model=\"gemini-2.0-flash\",\n",
        "    instruction=\"\"\"\n",
        "        Você é um ouvinte empático. Ao receber uma mensagem do jovem, identifique como ele está se sentindo\n",
        "        (ansioso, triste, estressado, feliz) e formule um pequeno resumo emocional.\n",
        "        Não resolva ainda, apenas demonstre que compreendeu.\n",
        "    \"\"\",\n",
        "    description=\"Agente que escuta e identifica emoções\"\n",
        ")\n"
      ],
      "metadata": {
        "id": "2jEklVWEsz4Y"
      },
      "execution_count": 9,
      "outputs": []
    },
    {
      "cell_type": "code",
      "source": [
        "agente_apoio = Agent(\n",
        "    name=\"apoio_emocional\",\n",
        "    model=\"gemini-2.0-flash\",\n",
        "    instruction=\"\"\"\n",
        "        Você é um amigo digital com empatia. Baseado no resumo emocional, ofereça:\n",
        "        - Uma resposta acolhedora e tranquila\n",
        "        - Um exercício de respiração ou relaxamento\n",
        "        - Uma sugestão leve para se sentir melhor\n",
        "    \"\"\",\n",
        "    description=\"Agente de apoio emocional\"\n",
        ")\n"
      ],
      "metadata": {
        "id": "jGz4SdWQs3c_"
      },
      "execution_count": 10,
      "outputs": []
    },
    {
      "cell_type": "code",
      "source": [
        "agente_conselheiro = Agent(\n",
        "    name=\"conselheiro_escolar\",\n",
        "    model=\"gemini-2.0-flash\",\n",
        "    instruction=\"\"\"\n",
        "        Você é um conselheiro educacional e emocional. Dê um conselho curto e prático para um jovem lidando com ansiedade escolar,\n",
        "        como dicas de estudo, organização, pausas, ou autoestima de acordo com a situação que ele esta passando.\n",
        "    \"\"\",\n",
        "    description=\"Agente conselheiro\"\n",
        ")\n"
      ],
      "metadata": {
        "id": "GxpqoiXcs6ok"
      },
      "execution_count": 20,
      "outputs": []
    },
    {
      "cell_type": "code",
      "source": [
        "agente_positivo = Agent(\n",
        "    name=\"reforco_positivo\",\n",
        "    model=\"gemini-2.0-flash\",\n",
        "    instruction=\"\"\"\n",
        "        Você é um gerador de reforços positivos. Diga uma frase motivacional, curta e inspiradora,\n",
        "        que possa deixar o jovem com esperança no final da conversa.\n",
        "    \"\"\",\n",
        "    description=\"Agente de reforço emocional positivo\"\n",
        ")\n"
      ],
      "metadata": {
        "id": "KVLx3naXs9uL"
      },
      "execution_count": 21,
      "outputs": []
    },
    {
      "cell_type": "code",
      "source": [
        "data_de_hoje = date.today().strftime(\"%d/%m/%Y\")\n",
        "print(f\"🤝 Chatbot EmotiBot Escolar — {data_de_hoje}\")\n",
        "desabafo = input(\"Digite a seguir uma dúvida, desabafo ou situação que você esteja passando nos estudos : \")\n",
        "\n",
        "\n",
        "# Etapa 1: Ouvinte\n",
        "emocao = call_agent(agente_ouvinte, desabafo)\n",
        "display(Markdown(\"### 👂 Ouvinte:\\n\" + emocao))\n",
        "\n",
        "# Etapa 2: Apoio emocional\n",
        "apoio = call_agent(agente_apoio, emocao)\n",
        "display(Markdown(\"### 🧘 Apoio Emocional:\\n\" + apoio))\n",
        "\n",
        "# Etapa 3: Conselheiro\n",
        "conselho = call_agent(agente_conselheiro, emocao)\n",
        "display(Markdown(\"### 🎓 Conselho:\\n\" + conselho))\n",
        "\n",
        "# Etapa 4: Reforço Positivo\n",
        "reforco = call_agent(agente_positivo, emocao)\n",
        "display(Markdown(\"### 🌟 Palavra Final:\\n\" + reforco))\n",
        "\n"
      ],
      "metadata": {
        "colab": {
          "base_uri": "https://localhost:8080/",
          "height": 580
        },
        "id": "JRyY-8JNtjc6",
        "outputId": "eacbcafe-b56f-4e75-a706-73674bd53908"
      },
      "execution_count": 23,
      "outputs": [
        {
          "name": "stdout",
          "output_type": "stream",
          "text": [
            "🤝 Chatbot EmotiBot Escolar — 17/05/2025\n",
            "Digite a seguir uma dúvida, desabafo ou situação que você esteja passando nos estudos : estou me sentindo inutil, estudei tanto para as provas e no final fui muito mal nelas, estou me sentindo incapaz de tudo\n"
          ]
        },
        {
          "output_type": "display_data",
          "data": {
            "text/plain": [
              "<IPython.core.display.Markdown object>"
            ],
            "text/markdown": "### 👂 Ouvinte:\nEntendo. Parece que você está se sentindo muito inútil e incapaz no momento, especialmente após ter se dedicado tanto aos estudos e não ter obtido os resultados esperados nas provas. É como se todo o seu esforço não tivesse valido a pena, e isso está te deixando bastante frustrado e desanimado.\n"
          },
          "metadata": {}
        },
        {
          "output_type": "display_data",
          "data": {
            "text/plain": [
              "<IPython.core.display.Markdown object>"
            ],
            "text/markdown": "### 🧘 Apoio Emocional:\nEi, sinto muito que você esteja se sentindo assim. É muito frustrante quando a gente se dedica e não vê o resultado que espera. Mas olha, essa sensação não define você, tá?\n\nQue tal a gente fazer um exercício rapidinho? Respire fundo pelo nariz, contando até quatro. Sinta o ar enchendo seus pulmões. Agora, solte o ar lentamente pela boca, contando até seis. Repita isso algumas vezes. Essa respiração pode te ajudar a relaxar um pouco e clarear a mente.\n\nE ei, que tal fazer algo que você gosta muito agora? Assistir um filme, ouvir sua música favorita, ou até mesmo dar uma volta lá fora. Às vezes, um pequeno momento de prazer pode fazer toda a diferença. 😊\n\n"
          },
          "metadata": {}
        },
        {
          "output_type": "display_data",
          "data": {
            "text/plain": [
              "<IPython.core.display.Markdown object>"
            ],
            "text/markdown": "### 🎓 Conselho:\nEi, campeão! Olha, sei bem como é essa sensação de ralar e não ver o resultado que esperava. Mas deixa eu te lembrar de uma coisa: você não é uma nota!\n\n**Primeiro:** Que tal a gente dar um passo atrás e analisar como você está estudando? Às vezes, não é a quantidade, mas a qualidade do estudo que faz a diferença. Experimente técnicas como a de Pomodoro (estudar por 25 minutos e fazer pausas de 5 minutos) ou mapas mentais para organizar as ideias.\n\n**Segundo:** Seja gentil com você mesmo. Você se dedicou, e isso já é uma vitória! Reconheça o esforço que você fez e se recompense por isso. Assista um filme, saia com amigos, faça algo que te dê prazer.\n\n**Terceiro:** Que tal a gente focar em pequenas metas? Em vez de pensar em tirar 10 na próxima prova, que tal se desafiar a entender um conceito que você tem dificuldade por dia? Pequenos progressos te darão mais confiança e te motivarão a seguir em frente.\n\nLembre-se: você é capaz, inteligente e tem muito potencial. Acredite em si mesmo e não deixe que uma nota te defina! 😉\n\n"
          },
          "metadata": {}
        },
        {
          "output_type": "display_data",
          "data": {
            "text/plain": [
              "<IPython.core.display.Markdown object>"
            ],
            "text/markdown": "### 🌟 Palavra Final:\n\"Acredite no seu potencial, pois a cada desafio superado, você se torna mais forte e resiliente!\"\n\n"
          },
          "metadata": {}
        }
      ]
    }
  ]
}